{
 "cells": [
  {
   "cell_type": "code",
   "execution_count": 1,
   "metadata": {},
   "outputs": [],
   "source": [
    "import numpy as np\n",
    "\n",
    "#from deslib.static.oracle import Oracle\n",
    "from ensemble.oracle import Oracle\n",
    "\n",
    "from sklearn.ensemble import BaggingClassifier\n",
    "from sklearn.ensemble import AdaBoostClassifier\n",
    "from tqdm import tqdm\n",
    "from sklearn.linear_model import Perceptron # base classifier\n",
    "from sklearn.linear_model import SGDClassifier # base classifier\n",
    "\n",
    "#from ensemble.random_oracle_alt import RandomOracleModel\n",
    "from ensemble.random_linear_oracle import RandomOracleModel\n",
    "\n",
    "from sklearn.model_selection import KFold, StratifiedKFold\n",
    "import pandas as pd\n",
    "from data_utils import Dataset_Loader\n",
    "import matplotlib.pyplot as plt\n"
   ]
  },
  {
   "cell_type": "code",
   "execution_count": 22,
   "metadata": {},
   "outputs": [
    {
     "name": "stdout",
     "output_type": "stream",
     "text": [
      "Dataset size: 209\n"
     ]
    }
   ],
   "source": [
    "ds_name, X, y = Dataset_Loader.seeds()\n",
    "\n",
    "seed = 100000\n",
    "pool_length = [10, 20, 30, 40, 50, 60, 80, 90, 100]\n",
    "np.random.seed(seed)\n",
    "#base_learner = SGDClassifier(loss=\"perceptron\", eta0=1.e-17,max_iter=200, learning_rate=\"constant\", penalty=None)\n",
    "base_learner = Perceptron(max_iter=100)\n",
    "pool_type = 'bagging'\n",
    "\n",
    "print(\"Dataset size: %d\" % X.shape[0])"
   ]
  },
  {
   "cell_type": "code",
   "execution_count": 23,
   "metadata": {},
   "outputs": [
    {
     "name": "stderr",
     "output_type": "stream",
     "text": [
      "100%|████████████████████████████████████████████████████████████████████████████████████| 9/9 [00:06<00:00,  1.34it/s]\n"
     ]
    }
   ],
   "source": [
    "\"\"\"\n",
    "    With random Subspaces, estimators differentiate because of random subsets of the features.\n",
    "    We can implement the random subspace ensemble using Bagging in scikit-learn, by keeping all training instances \n",
    "    but sampling features. According to (Aurlien, 2017, p. 188), we can achieve it by setting \"bootstrap=False\", \"max_samples=1.0\", \n",
    "    and \"bootstrap_features=True\"\n",
    "\n",
    "    Reference: \n",
    "    Aurlien Gron. 2017. Hands-On Machine Learning with Scikit-Learn and TensorFlow: Concepts, Tools, and Techniques \n",
    "    to Build Intelligent Systems (1st. ed.). O'Reilly Media, Inc.\n",
    "\"\"\"\n",
    "results = {'oracle_accuracy': [], 'ensemble_length': [], 'fold': []}\n",
    "\n",
    "for l in tqdm(pool_length):   \n",
    "    kf = StratifiedKFold(n_splits=5, random_state=seed, shuffle=True)\n",
    "    #kf = KFold(n_splits=5)\n",
    "    pool_types = {\n",
    "        'bagging': BaggingClassifier(base_estimator=base_learner, n_estimators=l),\n",
    "        'adaboost': AdaBoostClassifier(base_estimator=base_learner, n_estimators=l, algorithm='SAMME'),\n",
    "        'random_subspace': BaggingClassifier(base_estimator=base_learner, n_estimators=l, random_state=0, bootstrap=False,\n",
    "                                bootstrap_features=False, max_features=0.5),\n",
    "        'random_oracle_model': RandomOracleModel(base_estimator=base_learner, n_estimators=l)\n",
    "    }\n",
    "\n",
    "    pool_classifiers = pool_types[pool_type]\n",
    "    scores = list()\n",
    "    \n",
    "    fold = 0\n",
    "    for train_index, test_index in kf.split(X, y):\n",
    "        X_train, X_test = X[train_index], X[test_index]\n",
    "        y_train, y_test = y[train_index], y[test_index]\n",
    "    \n",
    "\n",
    "        pool_classifiers.fit(X_train, y_train)\n",
    "        oracle = Oracle(pool_classifiers)\n",
    "        \n",
    "        \n",
    "        if pool_type is 'random_subspace':\n",
    "            score = oracle.score_random_subspace(X_test, y_test, pool_classifiers.estimators_features_)            \n",
    "        elif pool_type is 'random_oracle_model':\n",
    "            score = pool_classifiers.score(X_test, y_test)\n",
    "        else:            \n",
    "            score = oracle.score(X_test, y_test)\n",
    "    \n",
    "        \n",
    "        results['oracle_accuracy'].append(score)\n",
    "        results['ensemble_length'].append(l)\n",
    "        results['fold'].append(fold)\n",
    "        fold += 1\n",
    "        "
   ]
  },
  {
   "cell_type": "code",
   "execution_count": 24,
   "metadata": {},
   "outputs": [],
   "source": [
    "df = pd.DataFrame(results)\n",
    "df_new = pd.DataFrame()\n",
    "for pl in pool_length:    \n",
    "    df_new[pl] = list(df[df.ensemble_length == pl].oracle_accuracy.values)"
   ]
  },
  {
   "cell_type": "code",
   "execution_count": 25,
   "metadata": {},
   "outputs": [],
   "source": [
    "summary = pd.concat([df[['oracle_accuracy', 'ensemble_length']].groupby(['ensemble_length']).mean()['oracle_accuracy'], \n",
    "           df[['oracle_accuracy', 'ensemble_length']].groupby(['ensemble_length']).std()], axis=1)\n",
    "\n",
    "summary.columns = ['oracle accuracy', 'standard deviation']\n",
    "summary.to_latex(\"results/oracle/%s_%s.tex\" % (ds_name, pool_type))\n",
    "summary.to_csv(\"results/oracle/%s_%s.csv\" % (ds_name, pool_type))"
   ]
  },
  {
   "cell_type": "code",
   "execution_count": 26,
   "metadata": {},
   "outputs": [
    {
     "data": {
      "image/png": "[encoded data removed]",
      "text/plain": [
       "<Figure size 1008x576 with 1 Axes>"
      ]
     },
     "metadata": {},
     "output_type": "display_data"
    }
   ],
   "source": [
    "with plt.style.context('fivethirtyeight'):\n",
    "    df_new.boxplot(figsize=(14,8), grid=False, fontsize=12)\n",
    "    #plt.title('Dispersão nos escores')\n",
    "    plt.xlabel('Classificadores base', labelpad=10, fontsize=10)\n",
    "    plt.ylabel('Acurácia', labelpad=10, fontsize=10)\n",
    "    plt.savefig(\"results/oracle/%s_%s.pdf\" % (ds_name, pool_type), transparent=True)\n",
    "    plt.show();"
   ]
  },
  {
   "cell_type": "code",
   "execution_count": null,
   "metadata": {},
   "outputs": [],
   "source": []
  },
  {
   "cell_type": "code",
   "execution_count": null,
   "metadata": {},
   "outputs": [],
   "source": []
  }
 ],
 "metadata": {
  "kernelspec": {
   "display_name": "Python 3",
   "language": "python",
   "name": "python3"
  },
  "language_info": {
   "codemirror_mode": {
    "name": "ipython",
    "version": 3
   },
   "file_extension": ".py",
   "mimetype": "text/x-python",
   "name": "python",
   "nbconvert_exporter": "python",
   "pygments_lexer": "ipython3",
   "version": "3.7.5"
  }
 },
 "nbformat": 4,
 "nbformat_minor": 4
}
