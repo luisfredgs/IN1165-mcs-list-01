{
 "cells": [
  {
   "cell_type": "code",
   "execution_count": 12,
   "metadata": {},
   "outputs": [
    {
     "name": "stdout",
     "output_type": "stream",
     "text": [
      "Acc (mean): 1.00\n",
      "STD: 0.00\n"
     ]
    }
   ],
   "source": [
    "import seaborn as sns\n",
    "import matplotlib.pyplot as plt\n",
    "from ensemble.sgh import SGH\n",
    "\n",
    "#from deslib.static.oracle import Oracle\n",
    "from ensemble.oracle import Oracle\n",
    "\n",
    "from sklearn.model_selection import KFold\n",
    "from sklearn.linear_model import SGDClassifier, Perceptron\n",
    "from tqdm import tqdm\n",
    "import pandas as pd\n",
    "import numpy as np\n",
    "import utils\n",
    "\n",
    "plt.style.use('ggplot')\n",
    "\n",
    "\n",
    "ds_name, X, y = utils.data_digits()\n",
    "\n",
    "seed = 100000\n",
    "base_learner = Perceptron()\n",
    "kf = KFold(n_splits=5)\n",
    "results = {'oracle_accuracy': [], 'oracle_std': [], 'ensemble_length': []}\n",
    "\n",
    "\"\"\"\n",
    " - verifique quantas instâncias por classe foram incorretamente classificadas; \n",
    " - verifique quantos hiperplanos por classe foram gerados\n",
    "\"\"\"\n",
    "\n",
    "pool_classifiers = SGH(base_estimator=base_learner)\n",
    "scores = list()\n",
    "fold = 1\n",
    "for train_index, test_index in kf.split(X):\n",
    "    #print(\"Fold %d\" % fold)\n",
    "    X_train, X_test = X[train_index], X[test_index]\n",
    "    y_train, y_test = y[train_index], y[test_index]\n",
    "\n",
    "\n",
    "    pool_classifiers.fit(X_train, y_train)    \n",
    "    oracle = Oracle(pool_classifiers)\n",
    "    \n",
    "    \n",
    "    score = oracle.score(X_test, y_test)\n",
    "    scores.append(score)\n",
    "    fold += 1\n",
    "    \n",
    "print(\"Acc (mean): %.2f\" % np.mean(scores))\n",
    "print(\"STD: %.2f\" % np.std(scores))"
   ]
  },
  {
   "cell_type": "code",
   "execution_count": 13,
   "metadata": {},
   "outputs": [
    {
     "data": {
      "text/plain": [
       "[array([[140, 140, 140, 140, 140, 140, 140, 140,   1],\n",
       "        [144, 144,   8,   2,   2,   2, 141,   3,   1],\n",
       "        [141, 141, 141, 141, 141, 141,   2,   1,   0],\n",
       "        [144,   2,   2,   2,   2,   2,   1,   1,   0],\n",
       "        [147, 147, 147, 147, 146,   1,   1,   0,   0],\n",
       "        [146, 146, 146, 146,   1,   1,   0,   0,   0],\n",
       "        [145, 145, 145, 145, 144,   1,   0,   0,   0],\n",
       "        [144, 144, 144, 144,   1,   0,   0,   0,   0],\n",
       "        [140, 140,   5,   1,   0,   0,   0,   0,   0],\n",
       "        [146,   1,   1,   0,   0,   0,   0,   0,   0]], dtype=int64),\n",
       " array([[142, 142, 142, 142, 142, 142, 142, 142,   1],\n",
       "        [148, 148,  10,   2,   2,   2, 141,   3,   2],\n",
       "        [141, 141, 141, 141, 141, 141,   1,   1,   0],\n",
       "        [148, 145, 145, 145, 145,   1,   2,   2,   0],\n",
       "        [145, 145, 145, 145, 143,   2,   0,   0,   0],\n",
       "        [145, 145, 145, 145,   2,   0,   0,   0,   0],\n",
       "        [145, 143, 143, 143,   0,   0,   0,   0,   0],\n",
       "        [143, 138,  12,   2,   0,   0,   0,   0,   0],\n",
       "        [138,   2,   2,   0,   0,   0,   0,   0,   0],\n",
       "        [142,   0,   0,   0,   0,   0,   0,   0,   0]], dtype=int64),\n",
       " array([[144, 144, 144, 144, 144, 144, 144, 144,   2],\n",
       "        [145, 145,   8, 143, 143, 143, 143,   4,   0],\n",
       "        [143, 143, 143,   2,   2,   2,   2,   2,   0],\n",
       "        [148,   2,   2, 144, 144,   1,   2,   0,   0],\n",
       "        [144, 144, 144, 144,   1,   2,   0,   0,   0],\n",
       "        [144, 144, 144, 146, 143,   0,   0,   0,   0],\n",
       "        [146, 146, 146, 143,   2,   0,   0,   0,   0],\n",
       "        [143, 143, 143,   2,   0,   0,   0,   0,   0],\n",
       "        [138, 138,  11,   0,   0,   0,   0,   0,   0],\n",
       "        [143,   2,   2,   0,   0,   0,   0,   0,   0]], dtype=int64),\n",
       " array([[143, 143, 143, 143, 143, 143, 143, 143,   1],\n",
       "        [145, 145,   9,   2,   2,   2, 140,   2,   2],\n",
       "        [140, 140, 140, 140, 140, 140,   2,   1,   0],\n",
       "        [146,   2,   2,   2,   2,   2,   1,   2,   0],\n",
       "        [144, 144, 144, 144, 148,   1,   2,   0,   0],\n",
       "        [148, 148, 148, 148,   1,   1,   0,   0,   0],\n",
       "        [144, 144, 144, 144, 143,   2,   0,   0,   0],\n",
       "        [143, 143, 143, 143,   2,   0,   0,   0,   0],\n",
       "        [139, 139,  13,   2,   0,   0,   0,   0,   0],\n",
       "        [146,   2,   2,   0,   0,   0,   0,   0,   0]], dtype=int64),\n",
       " array([[143, 143, 143, 143, 143, 143, 143, 143,   1],\n",
       "        [146, 146,   5,   2,   2,   2, 143,   4,   1],\n",
       "        [143, 143, 143, 143, 143, 143,   2,   1,   0],\n",
       "        [146,   2,   2,   2,   2,   2,   1,   1,   0],\n",
       "        [144, 144, 144, 144, 145,   1,   1,   0,   0],\n",
       "        [145, 145, 145, 145,   1,   1,   0,   0,   0],\n",
       "        [144, 144, 144, 144, 143,   1,   0,   0,   0],\n",
       "        [143, 143, 143, 143,   1,   0,   0,   0,   0],\n",
       "        [141, 141,  11,   1,   0,   0,   0,   0,   0],\n",
       "        [143,   1,   1,   0,   0,   0,   0,   0,   0]], dtype=int64)]"
      ]
     },
     "execution_count": 13,
     "metadata": {},
     "output_type": "execute_result"
    }
   ],
   "source": [
    "pool_classifiers.misclassified_data_frames"
   ]
  },
  {
   "cell_type": "code",
   "execution_count": 14,
   "metadata": {},
   "outputs": [],
   "source": [
    "summary = []\n",
    "for df_index in range(len(pool_classifiers.misclassified_data_frames)):\n",
    "    alloc = np.zeros((len(np.unique(y)), pool_classifiers.n_estimators))\n",
    "    for i in range(0, alloc.shape[0]):\n",
    "        for j in range(0, alloc.shape[1]):\n",
    "            try:\n",
    "                alloc[i,j] = pool_classifiers.misclassified_data_frames[df_index][i,j]\n",
    "            except:\n",
    "                pass\n",
    "    summary.append(alloc)"
   ]
  },
  {
   "cell_type": "code",
   "execution_count": 15,
   "metadata": {},
   "outputs": [
    {
     "data": {
      "text/plain": [
       "[array([[140., 140., 140., 140., 140., 140., 140., 140.,   1.],\n",
       "        [144., 144.,   8.,   2.,   2.,   2., 141.,   3.,   1.],\n",
       "        [141., 141., 141., 141., 141., 141.,   2.,   1.,   0.],\n",
       "        [144.,   2.,   2.,   2.,   2.,   2.,   1.,   1.,   0.],\n",
       "        [147., 147., 147., 147., 146.,   1.,   1.,   0.,   0.],\n",
       "        [146., 146., 146., 146.,   1.,   1.,   0.,   0.,   0.],\n",
       "        [145., 145., 145., 145., 144.,   1.,   0.,   0.,   0.],\n",
       "        [144., 144., 144., 144.,   1.,   0.,   0.,   0.,   0.],\n",
       "        [140., 140.,   5.,   1.,   0.,   0.,   0.,   0.,   0.],\n",
       "        [146.,   1.,   1.,   0.,   0.,   0.,   0.,   0.,   0.]]),\n",
       " array([[142., 142., 142., 142., 142., 142., 142., 142.,   1.],\n",
       "        [148., 148.,  10.,   2.,   2.,   2., 141.,   3.,   2.],\n",
       "        [141., 141., 141., 141., 141., 141.,   1.,   1.,   0.],\n",
       "        [148., 145., 145., 145., 145.,   1.,   2.,   2.,   0.],\n",
       "        [145., 145., 145., 145., 143.,   2.,   0.,   0.,   0.],\n",
       "        [145., 145., 145., 145.,   2.,   0.,   0.,   0.,   0.],\n",
       "        [145., 143., 143., 143.,   0.,   0.,   0.,   0.,   0.],\n",
       "        [143., 138.,  12.,   2.,   0.,   0.,   0.,   0.,   0.],\n",
       "        [138.,   2.,   2.,   0.,   0.,   0.,   0.,   0.,   0.],\n",
       "        [142.,   0.,   0.,   0.,   0.,   0.,   0.,   0.,   0.]]),\n",
       " array([[144., 144., 144., 144., 144., 144., 144., 144.,   2.],\n",
       "        [145., 145.,   8., 143., 143., 143., 143.,   4.,   0.],\n",
       "        [143., 143., 143.,   2.,   2.,   2.,   2.,   2.,   0.],\n",
       "        [148.,   2.,   2., 144., 144.,   1.,   2.,   0.,   0.],\n",
       "        [144., 144., 144., 144.,   1.,   2.,   0.,   0.,   0.],\n",
       "        [144., 144., 144., 146., 143.,   0.,   0.,   0.,   0.],\n",
       "        [146., 146., 146., 143.,   2.,   0.,   0.,   0.,   0.],\n",
       "        [143., 143., 143.,   2.,   0.,   0.,   0.,   0.,   0.],\n",
       "        [138., 138.,  11.,   0.,   0.,   0.,   0.,   0.,   0.],\n",
       "        [143.,   2.,   2.,   0.,   0.,   0.,   0.,   0.,   0.]]),\n",
       " array([[143., 143., 143., 143., 143., 143., 143., 143.,   1.],\n",
       "        [145., 145.,   9.,   2.,   2.,   2., 140.,   2.,   2.],\n",
       "        [140., 140., 140., 140., 140., 140.,   2.,   1.,   0.],\n",
       "        [146.,   2.,   2.,   2.,   2.,   2.,   1.,   2.,   0.],\n",
       "        [144., 144., 144., 144., 148.,   1.,   2.,   0.,   0.],\n",
       "        [148., 148., 148., 148.,   1.,   1.,   0.,   0.,   0.],\n",
       "        [144., 144., 144., 144., 143.,   2.,   0.,   0.,   0.],\n",
       "        [143., 143., 143., 143.,   2.,   0.,   0.,   0.,   0.],\n",
       "        [139., 139.,  13.,   2.,   0.,   0.,   0.,   0.,   0.],\n",
       "        [146.,   2.,   2.,   0.,   0.,   0.,   0.,   0.,   0.]]),\n",
       " array([[143., 143., 143., 143., 143., 143., 143., 143.,   1.],\n",
       "        [146., 146.,   5.,   2.,   2.,   2., 143.,   4.,   1.],\n",
       "        [143., 143., 143., 143., 143., 143.,   2.,   1.,   0.],\n",
       "        [146.,   2.,   2.,   2.,   2.,   2.,   1.,   1.,   0.],\n",
       "        [144., 144., 144., 144., 145.,   1.,   1.,   0.,   0.],\n",
       "        [145., 145., 145., 145.,   1.,   1.,   0.,   0.,   0.],\n",
       "        [144., 144., 144., 144., 143.,   1.,   0.,   0.,   0.],\n",
       "        [143., 143., 143., 143.,   1.,   0.,   0.,   0.,   0.],\n",
       "        [141., 141.,  11.,   1.,   0.,   0.,   0.,   0.,   0.],\n",
       "        [143.,   1.,   1.,   0.,   0.,   0.,   0.,   0.,   0.]])]"
      ]
     },
     "execution_count": 15,
     "metadata": {},
     "output_type": "execute_result"
    }
   ],
   "source": [
    "summary"
   ]
  },
  {
   "cell_type": "code",
   "execution_count": 16,
   "metadata": {},
   "outputs": [
    {
     "data": {
      "text/html": [
       "<div>\n",
       "<style scoped>\n",
       "    .dataframe tbody tr th:only-of-type {\n",
       "        vertical-align: middle;\n",
       "    }\n",
       "\n",
       "    .dataframe tbody tr th {\n",
       "        vertical-align: top;\n",
       "    }\n",
       "\n",
       "    .dataframe thead th {\n",
       "        text-align: right;\n",
       "    }\n",
       "</style>\n",
       "<table border=\"1\" class=\"dataframe\">\n",
       "  <thead>\n",
       "    <tr style=\"text-align: right;\">\n",
       "      <th></th>\n",
       "      <th>H_0</th>\n",
       "      <th>H_1</th>\n",
       "      <th>H_2</th>\n",
       "      <th>H_3</th>\n",
       "      <th>H_4</th>\n",
       "      <th>H_5</th>\n",
       "      <th>H_6</th>\n",
       "      <th>H_7</th>\n",
       "      <th>H_8</th>\n",
       "      <th>labels</th>\n",
       "    </tr>\n",
       "  </thead>\n",
       "  <tbody>\n",
       "    <tr>\n",
       "      <th>0</th>\n",
       "      <td>142.0</td>\n",
       "      <td>142.0</td>\n",
       "      <td>142.0</td>\n",
       "      <td>142.0</td>\n",
       "      <td>142.0</td>\n",
       "      <td>142.0</td>\n",
       "      <td>142.0</td>\n",
       "      <td>142.0</td>\n",
       "      <td>1.0</td>\n",
       "      <td>0</td>\n",
       "    </tr>\n",
       "    <tr>\n",
       "      <th>1</th>\n",
       "      <td>146.0</td>\n",
       "      <td>146.0</td>\n",
       "      <td>8.0</td>\n",
       "      <td>30.0</td>\n",
       "      <td>30.0</td>\n",
       "      <td>30.0</td>\n",
       "      <td>142.0</td>\n",
       "      <td>3.0</td>\n",
       "      <td>1.0</td>\n",
       "      <td>1</td>\n",
       "    </tr>\n",
       "    <tr>\n",
       "      <th>2</th>\n",
       "      <td>142.0</td>\n",
       "      <td>142.0</td>\n",
       "      <td>142.0</td>\n",
       "      <td>113.0</td>\n",
       "      <td>113.0</td>\n",
       "      <td>113.0</td>\n",
       "      <td>2.0</td>\n",
       "      <td>1.0</td>\n",
       "      <td>0.0</td>\n",
       "      <td>2</td>\n",
       "    </tr>\n",
       "    <tr>\n",
       "      <th>3</th>\n",
       "      <td>146.0</td>\n",
       "      <td>31.0</td>\n",
       "      <td>31.0</td>\n",
       "      <td>59.0</td>\n",
       "      <td>59.0</td>\n",
       "      <td>2.0</td>\n",
       "      <td>1.0</td>\n",
       "      <td>1.0</td>\n",
       "      <td>0.0</td>\n",
       "      <td>3</td>\n",
       "    </tr>\n",
       "    <tr>\n",
       "      <th>4</th>\n",
       "      <td>145.0</td>\n",
       "      <td>145.0</td>\n",
       "      <td>145.0</td>\n",
       "      <td>145.0</td>\n",
       "      <td>117.0</td>\n",
       "      <td>1.0</td>\n",
       "      <td>1.0</td>\n",
       "      <td>0.0</td>\n",
       "      <td>0.0</td>\n",
       "      <td>4</td>\n",
       "    </tr>\n",
       "    <tr>\n",
       "      <th>5</th>\n",
       "      <td>146.0</td>\n",
       "      <td>146.0</td>\n",
       "      <td>146.0</td>\n",
       "      <td>146.0</td>\n",
       "      <td>30.0</td>\n",
       "      <td>1.0</td>\n",
       "      <td>0.0</td>\n",
       "      <td>0.0</td>\n",
       "      <td>0.0</td>\n",
       "      <td>5</td>\n",
       "    </tr>\n",
       "    <tr>\n",
       "      <th>6</th>\n",
       "      <td>145.0</td>\n",
       "      <td>144.0</td>\n",
       "      <td>144.0</td>\n",
       "      <td>144.0</td>\n",
       "      <td>86.0</td>\n",
       "      <td>1.0</td>\n",
       "      <td>0.0</td>\n",
       "      <td>0.0</td>\n",
       "      <td>0.0</td>\n",
       "      <td>6</td>\n",
       "    </tr>\n",
       "    <tr>\n",
       "      <th>7</th>\n",
       "      <td>143.0</td>\n",
       "      <td>142.0</td>\n",
       "      <td>117.0</td>\n",
       "      <td>87.0</td>\n",
       "      <td>1.0</td>\n",
       "      <td>0.0</td>\n",
       "      <td>0.0</td>\n",
       "      <td>0.0</td>\n",
       "      <td>0.0</td>\n",
       "      <td>7</td>\n",
       "    </tr>\n",
       "    <tr>\n",
       "      <th>8</th>\n",
       "      <td>139.0</td>\n",
       "      <td>112.0</td>\n",
       "      <td>8.0</td>\n",
       "      <td>1.0</td>\n",
       "      <td>0.0</td>\n",
       "      <td>0.0</td>\n",
       "      <td>0.0</td>\n",
       "      <td>0.0</td>\n",
       "      <td>0.0</td>\n",
       "      <td>8</td>\n",
       "    </tr>\n",
       "    <tr>\n",
       "      <th>9</th>\n",
       "      <td>144.0</td>\n",
       "      <td>1.0</td>\n",
       "      <td>1.0</td>\n",
       "      <td>0.0</td>\n",
       "      <td>0.0</td>\n",
       "      <td>0.0</td>\n",
       "      <td>0.0</td>\n",
       "      <td>0.0</td>\n",
       "      <td>0.0</td>\n",
       "      <td>9</td>\n",
       "    </tr>\n",
       "  </tbody>\n",
       "</table>\n",
       "</div>"
      ],
      "text/plain": [
       "     H_0    H_1    H_2    H_3    H_4    H_5    H_6    H_7  H_8  labels\n",
       "0  142.0  142.0  142.0  142.0  142.0  142.0  142.0  142.0  1.0       0\n",
       "1  146.0  146.0    8.0   30.0   30.0   30.0  142.0    3.0  1.0       1\n",
       "2  142.0  142.0  142.0  113.0  113.0  113.0    2.0    1.0  0.0       2\n",
       "3  146.0   31.0   31.0   59.0   59.0    2.0    1.0    1.0  0.0       3\n",
       "4  145.0  145.0  145.0  145.0  117.0    1.0    1.0    0.0  0.0       4\n",
       "5  146.0  146.0  146.0  146.0   30.0    1.0    0.0    0.0  0.0       5\n",
       "6  145.0  144.0  144.0  144.0   86.0    1.0    0.0    0.0  0.0       6\n",
       "7  143.0  142.0  117.0   87.0    1.0    0.0    0.0    0.0  0.0       7\n",
       "8  139.0  112.0    8.0    1.0    0.0    0.0    0.0    0.0  0.0       8\n",
       "9  144.0    1.0    1.0    0.0    0.0    0.0    0.0    0.0  0.0       9"
      ]
     },
     "execution_count": 16,
     "metadata": {},
     "output_type": "execute_result"
    }
   ],
   "source": [
    "misclassified = pd.DataFrame(np.round(np.mean(summary, axis=0)))\n",
    "misclassified['labels'] = misclassified.index\n",
    "misclassified.columns = ['H_%s' % it for it in misclassified.columns[:-1]] + [misclassified.columns[-1]]\n",
    "misclassified"
   ]
  },
  {
   "cell_type": "code",
   "execution_count": 11,
   "metadata": {},
   "outputs": [],
   "source": [
    "misclassified.to_latex(\"results/sgh/%s_summary.tex\" % ds_name)"
   ]
  },
  {
   "cell_type": "code",
   "execution_count": 4,
   "metadata": {},
   "outputs": [
    {
     "data": {
      "image/png": "[encoded data removed]",
      "text/plain": [
       "<Figure size 864x720 with 1 Axes>"
      ]
     },
     "metadata": {},
     "output_type": "display_data"
    }
   ],
   "source": [
    "with plt.style.context('fivethirtyeight'):\n",
    "    misclassified.iloc[:, :-1].boxplot(figsize=(12,10), grid=True, fontsize=15)\n",
    "    plt.xlabel('Hiperplanos')\n",
    "    plt.ylabel('Acurácia')\n",
    "    plt.savefig(\"results/sgh/%s_boxplot.pdf\" % (ds_name))\n",
    "    plt.show();\n",
    "    "
   ]
  },
  {
   "cell_type": "code",
   "execution_count": 5,
   "metadata": {},
   "outputs": [
    {
     "data": {
      "image/png": "[encoded data removed]",
      "text/plain": [
       "<Figure size 864x576 with 1 Axes>"
      ]
     },
     "metadata": {},
     "output_type": "display_data"
    }
   ],
   "source": [
    "with plt.style.context('fivethirtyeight'):\n",
    "    misclassified.iloc[:, :-1].plot(kind='bar', width=.80, figsize=(12,8), rot=0)\n",
    "    plt.xlabel('Classes')\n",
    "    plt.ylabel('Instâncias a classificar')\n",
    "    plt.savefig(\"results/sgh/%s_bar.pdf\" % ds_name)\n",
    "    plt.show();\n",
    "    "
   ]
  },
  {
   "cell_type": "code",
   "execution_count": 6,
   "metadata": {},
   "outputs": [
    {
     "data": {
      "image/png": "[encoded data removed]",
      "text/plain": [
       "<Figure size 864x720 with 2 Axes>"
      ]
     },
     "metadata": {},
     "output_type": "display_data"
    }
   ],
   "source": [
    "with plt.style.context('ggplot'):   \n",
    "    plt.figure(figsize=(12,10))\n",
    "    plt.xlabel('Hiperplanos')\n",
    "    plt.ylabel('Quantidade média de classes')\n",
    "    sns.heatmap(misclassified.iloc[:, :-1], annot=True, fmt=\"g\", cmap='viridis')\n",
    "    plt.savefig(\"results/sgh/%s_heatmap.pdf\" % (ds_name))\n",
    "    plt.show()"
   ]
  },
  {
   "cell_type": "code",
   "execution_count": null,
   "metadata": {},
   "outputs": [],
   "source": []
  }
 ],
 "metadata": {
  "kernelspec": {
   "display_name": "Python 3",
   "language": "python",
   "name": "python3"
  },
  "language_info": {
   "codemirror_mode": {
    "name": "ipython",
    "version": 3
   },
   "file_extension": ".py",
   "mimetype": "text/x-python",
   "name": "python",
   "nbconvert_exporter": "python",
   "pygments_lexer": "ipython3",
   "version": "3.7.5"
  }
 },
 "nbformat": 4,
 "nbformat_minor": 4
}
