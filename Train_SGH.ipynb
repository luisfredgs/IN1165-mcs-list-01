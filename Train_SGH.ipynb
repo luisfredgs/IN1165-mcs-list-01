{
 "cells": [
  {
   "cell_type": "code",
   "execution_count": 77,
   "metadata": {},
   "outputs": [
    {
     "name": "stdout",
     "output_type": "stream",
     "text": [
      "Acc (mean): 1.00\n",
      "STD: 0.01\n"
     ]
    }
   ],
   "source": [
    "import seaborn as sns\n",
    "import matplotlib.pyplot as plt\n",
    "from ensemble.sgh import SGH\n",
    "\n",
    "#from deslib.static.oracle import Oracle\n",
    "from ensemble.oracle import Oracle\n",
    "\n",
    "from sklearn.model_selection import KFold\n",
    "from sklearn.linear_model import SGDClassifier, Perceptron\n",
    "from tqdm import tqdm\n",
    "import pandas as pd\n",
    "import numpy as np\n",
    "from data_utils import Dataset_Loader\n",
    "\n",
    "plt.style.use('ggplot')\n",
    "\n",
    "\n",
    "ds_name, X, y = Dataset_Loader.seeds()\n",
    "\n",
    "seed = 100000\n",
    "base_learner = Perceptron()\n",
    "kf = KFold(n_splits=5)\n",
    "results = {'oracle_accuracy': [], 'oracle_std': [], 'ensemble_length': []}\n",
    "\n",
    "\"\"\"\n",
    " - verifique quantas instâncias por classe foram incorretamente classificadas; \n",
    " - verifique quantos hiperplanos por classe foram gerados\n",
    "\"\"\"\n",
    "\n",
    "pool_classifiers = SGH(base_estimator=base_learner)\n",
    "scores = list()\n",
    "fold = 1\n",
    "for train_index, test_index in kf.split(X):\n",
    "    #print(\"Fold %d\" % fold)\n",
    "    X_train, X_test = X[train_index], X[test_index]\n",
    "    y_train, y_test = y[train_index], y[test_index]\n",
    "\n",
    "\n",
    "    pool_classifiers.fit(X_train, y_train)    \n",
    "    oracle = Oracle(pool_classifiers)\n",
    "    \n",
    "    \n",
    "    score = oracle.score(X_test, y_test)\n",
    "    scores.append(score)\n",
    "    fold += 1\n",
    "    \n",
    "print(\"Acc (mean): %.2f\" % np.mean(scores))\n",
    "print(\"STD: %.2f\" % np.std(scores))"
   ]
  },
  {
   "cell_type": "markdown",
   "metadata": {},
   "source": [
    "In order to avoid issues with mismatch shapes between summaries matrices of each fold, we pre-allocate a matrix with zeros and fills it with current values of each summary."
   ]
  },
  {
   "cell_type": "code",
   "execution_count": 78,
   "metadata": {},
   "outputs": [],
   "source": [
    "summary = []\n",
    "for df_index in range(len(pool_classifiers.misclassified_data_frames)):\n",
    "    alloc = np.zeros((len(np.unique(y)), pool_classifiers.n_estimators))\n",
    "    for i in range(0, alloc.shape[0]):\n",
    "        for j in range(0, alloc.shape[1]):\n",
    "            try:\n",
    "                alloc[i,j] = pool_classifiers.misclassified_data_frames[df_index][i,j]\n",
    "            except:\n",
    "                pass\n",
    "    summary.append(alloc)"
   ]
  },
  {
   "cell_type": "code",
   "execution_count": 79,
   "metadata": {},
   "outputs": [
    {
     "data": {
      "text/html": [
       "<div>\n",
       "<style scoped>\n",
       "    .dataframe tbody tr th:only-of-type {\n",
       "        vertical-align: middle;\n",
       "    }\n",
       "\n",
       "    .dataframe tbody tr th {\n",
       "        vertical-align: top;\n",
       "    }\n",
       "\n",
       "    .dataframe thead th {\n",
       "        text-align: right;\n",
       "    }\n",
       "</style>\n",
       "<table border=\"1\" class=\"dataframe\">\n",
       "  <thead>\n",
       "    <tr style=\"text-align: right;\">\n",
       "      <th></th>\n",
       "      <th>H_0</th>\n",
       "      <th>H_1</th>\n",
       "      <th>H_2</th>\n",
       "      <th>H_3</th>\n",
       "      <th>labels</th>\n",
       "    </tr>\n",
       "  </thead>\n",
       "  <tbody>\n",
       "    <tr>\n",
       "      <th>0</th>\n",
       "      <td>55.0</td>\n",
       "      <td>3.0</td>\n",
       "      <td>15.0</td>\n",
       "      <td>1.0</td>\n",
       "      <td>0</td>\n",
       "    </tr>\n",
       "    <tr>\n",
       "      <th>1</th>\n",
       "      <td>56.0</td>\n",
       "      <td>56.0</td>\n",
       "      <td>42.0</td>\n",
       "      <td>0.0</td>\n",
       "      <td>1</td>\n",
       "    </tr>\n",
       "    <tr>\n",
       "      <th>2</th>\n",
       "      <td>56.0</td>\n",
       "      <td>4.0</td>\n",
       "      <td>1.0</td>\n",
       "      <td>0.0</td>\n",
       "      <td>2</td>\n",
       "    </tr>\n",
       "  </tbody>\n",
       "</table>\n",
       "</div>"
      ],
      "text/plain": [
       "    H_0   H_1   H_2  H_3  labels\n",
       "0  55.0   3.0  15.0  1.0       0\n",
       "1  56.0  56.0  42.0  0.0       1\n",
       "2  56.0   4.0   1.0  0.0       2"
      ]
     },
     "execution_count": 79,
     "metadata": {},
     "output_type": "execute_result"
    }
   ],
   "source": [
    "misclassified = pd.DataFrame(np.round(np.mean(summary, axis=0)))\n",
    "misclassified['labels'] = misclassified.index\n",
    "misclassified.columns = ['H_%s' % it for it in misclassified.columns[:-1]] + [misclassified.columns[-1]]\n",
    "misclassified"
   ]
  },
  {
   "cell_type": "code",
   "execution_count": 80,
   "metadata": {},
   "outputs": [],
   "source": [
    "misclassified.to_latex(\"results/sgh/%s_summary.tex\" % ds_name)\n",
    "misclassified.to_csv(\"results/sgh/%s_summary.csv\" % ds_name)"
   ]
  },
  {
   "cell_type": "code",
   "execution_count": 81,
   "metadata": {},
   "outputs": [
    {
     "data": {
      "image/png": "[encoded data removed]",
      "text/plain": [
       "<Figure size 864x720 with 1 Axes>"
      ]
     },
     "metadata": {},
     "output_type": "display_data"
    }
   ],
   "source": [
    "with plt.style.context('fivethirtyeight'):\n",
    "    misclassified.iloc[:, :-1].boxplot(figsize=(12,10), grid=True, fontsize=12)\n",
    "    plt.xlabel('Hiperplanos', labelpad=10, fontsize=12)\n",
    "    plt.ylabel('Acurácia', labelpad=10, fontsize=12)\n",
    "    plt.savefig(\"results/sgh/%s_boxplot.pdf\" % (ds_name))\n",
    "    plt.show();\n",
    "    "
   ]
  },
  {
   "cell_type": "code",
   "execution_count": 82,
   "metadata": {},
   "outputs": [
    {
     "data": {
      "image/png": "[encoded data removed]",
      "text/plain": [
       "<Figure size 864x576 with 1 Axes>"
      ]
     },
     "metadata": {},
     "output_type": "display_data"
    }
   ],
   "source": [
    "with plt.style.context('fivethirtyeight'):\n",
    "    misclassified.iloc[:, :-1].plot(kind='bar', width=.80, figsize=(12,8), rot=0)\n",
    "    plt.xlabel('Classes', labelpad=10, fontsize=12)\n",
    "    plt.ylabel('Instâncias a classificar', labelpad=10, fontsize=12)\n",
    "    plt.savefig(\"results/sgh/%s_bar.pdf\" % ds_name)\n",
    "    plt.show();\n",
    "    "
   ]
  },
  {
   "cell_type": "code",
   "execution_count": 83,
   "metadata": {},
   "outputs": [
    {
     "data": {
      "image/png": "[encoded data removed]",
      "text/plain": [
       "<Figure size 432x288 with 2 Axes>"
      ]
     },
     "metadata": {},
     "output_type": "display_data"
    }
   ],
   "source": [
    "with plt.style.context('ggplot'):   \n",
    "    #plt.figure(figsize=(5,2))    \n",
    "    sns.heatmap(misclassified.iloc[:, :-1], annot=True, fmt=\"g\", cmap='viridis', xticklabels=True, yticklabels=True, annot_kws={'size':10})\n",
    "    plt.xlabel('Hiperplanos')\n",
    "    plt.ylabel('Classes')\n",
    "    plt.savefig(\"results/sgh/%s_heatmap.pdf\" % (ds_name))\n",
    "    plt.show()"
   ]
  },
  {
   "cell_type": "code",
   "execution_count": null,
   "metadata": {},
   "outputs": [],
   "source": []
  }
 ],
 "metadata": {
  "kernelspec": {
   "display_name": "Python 3",
   "language": "python",
   "name": "python3"
  },
  "language_info": {
   "codemirror_mode": {
    "name": "ipython",
    "version": 3
   },
   "file_extension": ".py",
   "mimetype": "text/x-python",
   "name": "python",
   "nbconvert_exporter": "python",
   "pygments_lexer": "ipython3",
   "version": "3.7.5"
  }
 },
 "nbformat": 4,
 "nbformat_minor": 4
}
